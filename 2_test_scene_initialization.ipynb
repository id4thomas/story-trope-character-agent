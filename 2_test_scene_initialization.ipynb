{
 "cells": [
  {
   "cell_type": "code",
   "execution_count": 14,
   "id": "c758302d",
   "metadata": {},
   "outputs": [],
   "source": [
    "import json\n",
    "import os\n",
    "import pprint\n",
    "import random\n",
    "from typing import List, Dict\n",
    "import uuid\n",
    "import yaml\n",
    "\n",
    "from jinja2 import Template, StrictUndefined\n",
    "from openai import OpenAI, AsyncOpenAI\n",
    "from pydantic import BaseModel, Extra, Field\n",
    "import tiktoken\n",
    "\n",
    "from src.models import CharacterSpecification\n",
    "from config import settings"
   ]
  },
  {
   "cell_type": "code",
   "execution_count": 10,
   "id": "387e284d",
   "metadata": {},
   "outputs": [
    {
     "name": "stdout",
     "output_type": "stream",
     "text": [
      "gpt-4.1-nano\n"
     ]
    }
   ],
   "source": [
    "# Initialize OpenAI provider\n",
    "print(settings.llm_model)\n",
    "# OpenAI Client\n",
    "llm_client = OpenAI(\n",
    "    base_url=settings.llm_base_url,\n",
    "    api_key=settings.llm_api_key\n",
    ")"
   ]
  },
  {
   "cell_type": "markdown",
   "id": "27a3d281",
   "metadata": {},
   "source": [
    "# 1. Select 2 Characters"
   ]
  },
  {
   "cell_type": "code",
   "execution_count": 3,
   "id": "1451faa1",
   "metadata": {},
   "outputs": [],
   "source": [
    "with open(\"assets/character_collection.json\", \"r\") as f:\n",
    "    character_collection = json.load(f)\n",
    "\n",
    "character_ids = list(character_collection[\"source\"].keys())"
   ]
  },
  {
   "cell_type": "code",
   "execution_count": 4,
   "id": "43115844",
   "metadata": {},
   "outputs": [
    {
     "name": "stdout",
     "output_type": "stream",
     "text": [
      "35f0c56f-263d-42df-846c-e1833d8ca0ab wiki_Zephyr Orion.txt\n",
      "00d66087-9b3b-46da-bd74-bf45cbe81d3c wiki_Vivienne LaRoux.txt\n"
     ]
    }
   ],
   "source": [
    "# fix characters for testing\n",
    "character1_id=\"35f0c56f-263d-42df-846c-e1833d8ca0ab\"\n",
    "character2_id=\"00d66087-9b3b-46da-bd74-bf45cbe81d3c\"\n",
    "\n",
    "print(character1_id, character_collection[\"source\"][character1_id])\n",
    "print(character2_id, character_collection[\"source\"][character2_id])"
   ]
  },
  {
   "cell_type": "code",
   "execution_count": 5,
   "id": "9d83503d",
   "metadata": {},
   "outputs": [],
   "source": [
    "# Load Characters\n",
    "with open(f\"assets/characters/{character1_id}.json\", \"r\") as f:\n",
    "    character1_spec = CharacterSpecification(**json.load(f))\n",
    "    \n",
    "with open(f\"assets/characters/{character2_id}.json\", \"r\") as f:\n",
    "    character2_spec = CharacterSpecification(**json.load(f))"
   ]
  },
  {
   "cell_type": "markdown",
   "id": "1bc34147",
   "metadata": {},
   "source": [
    "# 2. Generate Scene Draft"
   ]
  },
  {
   "cell_type": "code",
   "execution_count": 6,
   "id": "65e8167a",
   "metadata": {},
   "outputs": [],
   "source": [
    "with open('prompts/scene_initialization.yaml', 'r') as file:\n",
    "    prompt = yaml.load(file, Loader=yaml.FullLoader)"
   ]
  },
  {
   "cell_type": "code",
   "execution_count": 11,
   "id": "f5d4658d",
   "metadata": {},
   "outputs": [
    {
     "name": "stderr",
     "output_type": "stream",
     "text": [
      "/var/folders/wj/0c7skj2154q4844jqxlw3yxr0000gn/T/ipykernel_17217/4109169911.py:10: PydanticDeprecatedSince20: `pydantic.config.Extra` is deprecated, use literal values instead (e.g. `extra='allow'`). Deprecated in Pydantic V2.0 to be removed in V3.0. See Pydantic V2 Migration Guide at https://errors.pydantic.dev/2.10/migration/\n",
      "  extra = Extra.forbid\n"
     ]
    }
   ],
   "source": [
    "system_message = prompt['system']\n",
    "user_template = Template(\n",
    "    prompt['user'],\n",
    "    undefined=StrictUndefined\n",
    ")\n",
    "\n",
    "class InitTropeResult(BaseModel):\n",
    "    trope: str\n",
    "    class Config:\n",
    "        extra = Extra.forbid\n",
    "\n",
    "def generate_initial_trope(\n",
    "    character1: CharacterSpecification,\n",
    "    character2: CharacterSpecification,\n",
    "):\n",
    "    user_message = user_template.render(\n",
    "        characters=[character1, character2]\n",
    "    )\n",
    "    messages = [\n",
    "        {\"role\": \"system\", \"content\": system_message},\n",
    "        {\"role\": \"user\", \"content\": user_message}\n",
    "    ]\n",
    "    decode_params = {\"temperature\": 0.95}\n",
    "\n",
    "    response = llm_client.beta.chat.completions.parse(\n",
    "        model=settings.llm_model,\n",
    "        messages=messages,\n",
    "        response_format=InitTropeResult,\n",
    "        **decode_params,\n",
    "    )\n",
    "    return response.choices[0].message.parsed.trope"
   ]
  },
  {
   "cell_type": "code",
   "execution_count": 12,
   "id": "9a8756ec",
   "metadata": {},
   "outputs": [],
   "source": [
    "initial_trope=generate_initial_trope(\n",
    "    character1_spec,\n",
    "    character2_spec\n",
    ")\n",
    "# Example (for testing)\n",
    "# initial_trope=\"In the glamorous hustle and bustle of a metropolitan fashion gala, **Zephyr Orion**, a 28-year-old social magnet with an astronaut's bravado, finds himself drawn to the assertive allure of **Vivienne LaRoux**, a renowned 28-year-old style influencer. Standing out in the crowd with his easy-going charm, Zephyr playfully engages Vivienne in a conversation, his jocular tone a stark contrast to her sharply assertive style. She, poised and confident, initially dismisses Zephyr's witty banter with an elegant roll of the eyes, but his relentless charisma gradually cracks her facade, revealing a flicker of intrigued amusement. Despite Vivienne's mean streak occasionally surfacing, the evening unfolds into a dynamic exchange, Zephyr's warmth melting Vivienne's icy exterior as they navigate through complex social dance, caught between playful banter and subtle challenges to each other's worldviews.\""
   ]
  },
  {
   "cell_type": "code",
   "execution_count": 15,
   "id": "be708175",
   "metadata": {},
   "outputs": [
    {
     "name": "stdout",
     "output_type": "stream",
     "text": [
      "('Zephyr Orion, the outgoing and ambitious astronaut with a playful, jovial '\n",
      " 'manner, loves to tell captivating tales of space adventures that make '\n",
      " 'everyone around him feel at ease. Vivienne LaRoux, a sharp and assertive '\n",
      " 'style influencer with a chic but occasionally dismissive attitude, often '\n",
      " 'changes her opinions on fashion and lifestyle with a noncommittal air. In '\n",
      " 'this small scene, Zephyr, eager to share his latest space story, quickly '\n",
      " \"realizes that Vivienne's sharp wit and high standards don't easily lend \"\n",
      " 'themselves to his lighthearted storytelling, leading to a teasing exchange '\n",
      " 'that reveals her dismissive side and his need to impress, creating a playful '\n",
      " 'yet slightly tense dynamic.')\n"
     ]
    }
   ],
   "source": [
    "pprint.pprint(initial_trope)"
   ]
  },
  {
   "cell_type": "markdown",
   "id": "6cadbc30",
   "metadata": {},
   "source": [
    "# 3. Refine "
   ]
  },
  {
   "cell_type": "markdown",
   "id": "9595e63b",
   "metadata": {},
   "source": [
    "## 3-1. Retrieve Similar Tropes"
   ]
  },
  {
   "cell_type": "code",
   "execution_count": 26,
   "id": "9b258263",
   "metadata": {},
   "outputs": [],
   "source": [
    "from qdrant_client import QdrantClient\n",
    "from llama_index.core import (\n",
    "\tDocument,\n",
    "\tSimpleDirectoryReader, VectorStoreIndex,\n",
    "\tStorageContext,\n",
    "\tSettings,\n",
    "\tQueryBundle\n",
    ")\n",
    "\n",
    "from llama_index.embeddings.text_embeddings_inference import (\n",
    "    TextEmbeddingsInference,\n",
    ")\n",
    "\n",
    "from src.tropes.retriever import TropeRetriever\n",
    "from src.tropes.models import Trope"
   ]
  },
  {
   "cell_type": "code",
   "execution_count": 22,
   "id": "6532d85b",
   "metadata": {},
   "outputs": [],
   "source": [
    "embedder = TextEmbeddingsInference(\n",
    "    settings.embedding_model,\n",
    "    base_url=settings.embedding_base_url,\n",
    "    auth_token=settings.embedding_api_key\n",
    ")\n",
    "Settings.embed_model = embedder\n",
    "client = QdrantClient(host=\"localhost\", port=settings.qdrant_port)\n",
    "\n",
    "retriever = TropeRetriever(client)"
   ]
  },
  {
   "cell_type": "code",
   "execution_count": 23,
   "id": "2e34a7aa",
   "metadata": {},
   "outputs": [
    {
     "name": "stdout",
     "output_type": "stream",
     "text": [
      "5\n"
     ]
    }
   ],
   "source": [
    "retrieved_tropes = retriever.retrieve(initial_trope)\n",
    "print(len(retrieved_tropes))"
   ]
  },
  {
   "cell_type": "code",
   "execution_count": 24,
   "id": "f443c2dc",
   "metadata": {},
   "outputs": [
    {
     "name": "stdout",
     "output_type": "stream",
     "text": [
      "trope_id='t13173' name='LoonyFriendsImproveYourPersonality' explanation='A stiff character learns and grows from unwanted interaction with annoying and eccentric people.\\nThe focus character is a fairly stiff guy (rarely a gal), may be the Only Sane Man, The Comically Serious or a Jerkass of the \"stick up his rear\" type, and often comes across as an Ineffectual Loner. He may not be content with his life, but it\\'s stable, and he probably has a long-term plan for fixing what he thinks is wrong, if he can just get the right breaks. Instead, he is dragged into wacky hijinks by the other characters against his will, making a mess of his life. But implicitly or explicitly, the goal in the story is to make him a better person by putting him through \"horrible\" experiences - or at least ones he considers horrible, in order to show him the brighter side of things.\\nMay involve a Manic Pixie Dream Girl, but in most examples, it\\'s an entire cast imposing on the stiff guy\\'s time, money and patience. The Power of Friendship is usually evoked by the end of the story. There may be a montage as the character remembers how things used to be, and how despite how much the other characters irritate them, they have made stiff guy a better person by getting him to take off his Jade-Colored Glasses.\\nContrast Defrosting Ice Queen, an Always Female version, and Unsympathetic Comedy Protagonist, who may have a similar personality and equally annoying cohorts, but does not have the Character Development.'\n",
      "trope_id='t16319' name='OracularUrchin' explanation=\"Usually female, small and fey in a disturbing way, the Oracular Urchin knows more about the future — or the present — than she really should. Sometimes her mysterious comments are clear, but usually they just confuse matters until everything's over, and maybe not even then. When things come to a head, the Oracular Urchin may be the one who explains Everything (either explicitly or by implication) to the hero — and, to the audience.\\nRelated to the Waif Prophet, but the Oracular Urchin is not usually ill or weak in any way — just ... different, strangely informed and, usually, very oddly plugged-in. Once you have enough background to parse what they say.\\nSee also Fainting Seer and Mysterious Waif.\"\n",
      "trope_id='t19331' name='SatelliteCharacter' explanation='A character whose motivations and overall personality essentially revolve around their interaction with another, possibly more interesting, character with whom they really should be on an equal standing. Without this interaction, they would otherwise be pretty bland.\\nSometimes a series will remove that \"central\" person from the equation somehow, and the Satellite Character has to establish their own motives. This is a common way to make a Battle Butler more interesting. On the other hand, a Spin-Off can fail entirely if the star is a Satellite Character whose character can\\'t support their own stories.\\nContributing to their poor image in some circles, badly-written Magical Girlfriends become Satellite Characters if not outright Satellite Love Interests with disturbing frequency.\\nNote that not all satellite characters are friendly, though... Some satellites are the exact opposite, full of all-consuming jealousy, rage, bitterness, vengefulness, or outright hatred, orbiting until the time is right to crash violently into the character they circle. This is less common, though.\\nLikely to count if the character is the Fat Girl, Black Best Friend, Pet Homosexual, Hollywood Homely, or Uncool Redhead.\\nContrast The Friends Who Never Hang, where a character has developed interaction with a much larger number of characters except for one or two significant exceptions. The romantic-only variant of this trope is Satellite Love Interest.\\nHas nothing to do with a story where the character in question is a living Satellite, nor a character that happened to be punched or rocketed into orbit.'\n",
      "trope_id='t00923' name='AngelicAliens' explanation='These Human/Rubber-Forehead Aliens are tall, willowy and graceful — and incredibly beautiful to humans. Bonus points if they glow, are made out of Pure Energy, or have some kind of ethereal quality.\\nThey are distinct from Space Elves insofar as Space Elves are defined more by their personality (uptight and academic) and superiority complex than their appearance. The chief characteristics of the Space Angel are its beauty and grace, and it is not uncommon for them to be silent, adding to the high-class feel. (If they do talk, expect their voices to also be incredibly beautiful, as well as resonant.) Radiant and glowing, these beings leave humans awestruck and may prompt more superstitious characters to actually compare them to angels. If the appearance or abilities of the Space Angels validate traditional depictions of angels, it may be a case of Ancient Astronauts.\\nTheir clothing will likely be composed of elaborate flowing robes, but it is just as common for Space Angels, particularly of the Energy Being variety, to not wear them. This can be for any one of a number of reasons: They may be agender (or at least appear that way); they may lack clothing taboos; or their \"clothes\" might appear to be integrated into their bodies. There is a high chance that a Space Angel will have jellyfish-like frills and/or tendrils, likely as a form of Alien Hair.\\nThey are likely to have advanced technology, telepathy, empathy and other hallmarks of Sufficiently Advanced Aliens and may indicate a race of Rubber-Forehead Aliens that has reached the apex of technological advancement or Ascended to a Higher Plane of Existence.\\nThe facial forms of Space Angels are likely to evoke The Greys (large eyes, small or no nose, small mouth), possibly due to the visual and mythological links between aliens, angels, and elves/fairies. However, unlike the Greys, Space Angels are normally kind, gentle beings who are friendly to humans, though they are sometimes depicted as unknowable, with morals and motives above and beyond our understanding.'\n",
      "trope_id='t23310' name='ThePhilosopher' explanation='This is a character who brings into question various philosophical concepts, and discusses them at length. This is usually a supporting character, but can sometimes be the main protagonist, depending on the scenario. In either case, other characters tend to flock to them, looking for answers.\\nWhile usually highly intelligent, the Philosopher differs from The Smart Guy and The Strategist in one vital area; while the philosopher is clever, his great thoughts rarely amount to any direct, effective action. It\\'s up to the more practical heroes to make sense of what he\\'s saying and implement a plan.\\nThe characterisation of the Philosopher is dependent on the nature of the show/book/comic they\\'re appearing in. A straight fantasy tale will usually make the Philosopher sage-like, a valuable source of information for the characters. If it\\'s a video game, this is probably the guy to talk to if you want a hint as to what to do next - though he\\'ll probably tell you in a roundabout way. Instead of saying \"Go to the harbour,\" he\\'s likely to muse out loud that all life comes from the sea. Usually male, he\\'s generally a mage, a sage, or a bookkeeper of some sort. In action series, though, the Philosopher might be surprising - in superhero teams anyone can fall into this category, as even the most vicious and seemingly cynical member of the team can suddenly start quoting Socrates.\\nIn a comedy series, particularly Sadist Shows and dark comedies, however, The Philosopher is extremely rare and if they do exist, may vary from the Only Sane Man to the Butt-Monkey. Perhaps due to the assumed anti-intellectualism of television culture, or simply the perception that people who like to ponder the nature of life never get around to doing anything useful, the fact that this character \"thinks too much\" is likely to get him punched or killed off, mostly if the philosopher is a Wide-Eyed Idealist (cynics are often portrayed as Deadpan Snarkers). An alternative tactic is to have said idealist ponder something at great length while coming to no useful conclusion, whereupon The Ditz (or other appropriate character type) will pipe up with a mind-numbingly simple and effective solution.\\nAnother version is the tragic philosopher, someone who understands life at a deeper level because life has made them suffer for that knowledge. This can go one of three ways; he is either motivated to change the world around him, using his personal angst as proof that the world is basically unfair and needs to be remodeled, and, in the process, becoming a Well-Intentioned Extremist. Or, he is totally paralysed by \"knowing too much\", and virtually useless, unless the hero can snap him out of it. Still another, more extreme one, is, of course, the Straw Nihilist. A tragic philosopher is difficult to write without descending into Wangst, however, as he\\'s not only angsty, but pretty verbose about it.\\nMany people find this type of character to be annoying or heavy-handed, but keep in mind that this trope is not, intrinsically, a bad thing. When written well, this character can give another layer of importance, or meaning, to the overall story. When done sloppily, however, this can fall into Fauxlosophic Narration, which can often contain an overload of Sesquipedalian Loquaciousness. When writing about people like this, tread carefully, for it can be a very fine line.\\nCompare The Fatalist. The Warrior Poet may have aspects of this... Indeed, if the Philosopher holds his own in combat, they\\'ll often overlap. He may also be an Erudite Stoner. If he holds a position of power, he would be a Philosopher King. These characters are particularly prone to Leaning on the Fourth Wall and other ways of invoking Metafiction, especially through discussing The Power of Language.'\n"
     ]
    }
   ],
   "source": [
    "for trope in retrieved_tropes:\n",
    "    print(trope)"
   ]
  },
  {
   "cell_type": "markdown",
   "id": "bddca095",
   "metadata": {},
   "source": [
    "## 3-2. Refine with retrieved"
   ]
  },
  {
   "cell_type": "code",
   "execution_count": 25,
   "id": "3c72b43a",
   "metadata": {},
   "outputs": [
    {
     "name": "stderr",
     "output_type": "stream",
     "text": [
      "/var/folders/wj/0c7skj2154q4844jqxlw3yxr0000gn/T/ipykernel_17217/1847138306.py:12: PydanticDeprecatedSince20: `pydantic.config.Extra` is deprecated, use literal values instead (e.g. `extra='allow'`). Deprecated in Pydantic V2.0 to be removed in V3.0. See Pydantic V2 Migration Guide at https://errors.pydantic.dev/2.10/migration/\n",
      "  extra = Extra.forbid\n"
     ]
    }
   ],
   "source": [
    "def format_trope(trope):\n",
    "    return \"{{\\\"name\\\": {name}, \\\"explanation\\\": {explanation}}}\".format(\n",
    "        name=trope.name, explanation=trope.explanation\n",
    "    )\n",
    "    \n",
    "class SceneState(BaseModel):\n",
    "    location: str\n",
    "    setting: str\n",
    "    explanation: str\n",
    "    \n",
    "    class Config:\n",
    "        extra = Extra.forbid\n",
    "        use_enum_values = True"
   ]
  },
  {
   "cell_type": "code",
   "execution_count": 27,
   "id": "24bbd680",
   "metadata": {},
   "outputs": [],
   "source": [
    "with open('prompts/scene_refinement.yaml', 'r') as file:\n",
    "    prompt = yaml.load(file, Loader=yaml.FullLoader)"
   ]
  },
  {
   "cell_type": "code",
   "execution_count": 30,
   "id": "e3ac925a",
   "metadata": {},
   "outputs": [
    {
     "name": "stderr",
     "output_type": "stream",
     "text": [
      "/var/folders/wj/0c7skj2154q4844jqxlw3yxr0000gn/T/ipykernel_17217/2820334285.py:13: PydanticDeprecatedSince20: `pydantic.config.Extra` is deprecated, use literal values instead (e.g. `extra='allow'`). Deprecated in Pydantic V2.0 to be removed in V3.0. See Pydantic V2 Migration Guide at https://errors.pydantic.dev/2.10/migration/\n",
      "  extra = Extra.forbid\n"
     ]
    }
   ],
   "source": [
    "system_message = prompt['system']\n",
    "user_template = Template(\n",
    "    prompt['user'],\n",
    "    undefined=StrictUndefined\n",
    ")\n",
    "\n",
    "class RefineTropeOutput(BaseModel):\n",
    "    revised_trope: str\n",
    "    utilized_reference_tropes: List[str]\n",
    "    scene: SceneState\n",
    "    \n",
    "    class Config:\n",
    "        extra = Extra.forbid\n",
    "        use_enum_values = True\n",
    "\n",
    "def refine_trope(\n",
    "    character1: CharacterSpecification,\n",
    "    character2: CharacterSpecification,\n",
    "    draft: str,\n",
    "    reference_tropes: List[Trope]\n",
    "    \n",
    "):\n",
    "    user_message = user_template.render(\n",
    "        characters=[character1, character2],\n",
    "        draft=draft,\n",
    "        reference_tropes=reference_tropes\n",
    "    )\n",
    "    messages = [\n",
    "        {\"role\": \"system\", \"content\": system_message},\n",
    "        {\"role\": \"user\", \"content\": user_message}\n",
    "    ]\n",
    "    decode_params = {\"temperature\": 0.95}\n",
    "\n",
    "    response = llm_client.beta.chat.completions.parse(\n",
    "        model=settings.llm_model,\n",
    "        messages=messages,\n",
    "        response_format=RefineTropeOutput,\n",
    "        **decode_params,\n",
    "    )\n",
    "    return response.choices[0].message.parsed"
   ]
  },
  {
   "cell_type": "code",
   "execution_count": 31,
   "id": "7df9bbbb",
   "metadata": {},
   "outputs": [],
   "source": [
    "refined_trope = refine_trope(\n",
    "    character1_spec,\n",
    "    character2_spec,\n",
    "    draft=initial_trope,\n",
    "    reference_tropes=retrieved_tropes\n",
    ")"
   ]
  },
  {
   "cell_type": "code",
   "execution_count": 32,
   "id": "7aeb085c",
   "metadata": {},
   "outputs": [
    {
     "name": "stdout",
     "output_type": "stream",
     "text": [
      "{\n",
      "    \"revised_trope\": \"During a casual but lively social gathering in Zephyr Orion's modern city apartment, Zephyr, the outgoing, jovial astronaut and known for his storytelling, is attempting to impress Vivienne LaRoux, the confident and stylish style influencer. Zephyr, with his playful, goofy personality, starts sharing a humorous, exaggerated space adventure story, knowing Vivienne's sharp, assertive nature and love for intellectual engagement. Vivienne, initially dismissive and sharp, challenges Zephyr with a quick, sarcastic retort, testing his wit and patience, but also secretly intrigued by his ease and charm. As Zephyr responds with humor and warmth, their interaction reveals a subtle evolution from mutual teasing to a moment of genuine connection, showcasing Zephyr's effort to break through Vivienne's dismissive exterior with his playful sincerity.\",\n",
      "    \"utilized_reference_tropes\": [\n",
      "        \"LoonyFriendsImproveYourPersonality\"\n",
      "    ],\n",
      "    \"scene\": {\n",
      "        \"location\": \"Zephyr's city apartment\",\n",
      "        \"setting\": \"A stylish, modern space filled with space memorabilia and art supplies, lit warmly to foster a relaxed, personal atmosphere.\",\n",
      "        \"explanation\": \"In this scene, Zephyr, a playful and outgoing astronaut, tries to entertain Vivienne, a confident and assertive style influencer. Their banter revolves around humor and wit, with Zephyr making exaggerated space adventure tales to charm Vivienne. She responds with sharpness and sarcasm, testing his humor and confidence, but their playful exchange hints at a deeper, mutual understanding emerging from their teasing. The scene emphasizes Zephyr's attempt to connect by breaking her cool exterior with his warmth and humor, illustrating how his playful personality begins to influence her.\"\n",
      "    }\n",
      "}\n"
     ]
    }
   ],
   "source": [
    "print(refined_trope.model_dump_json(indent=4))"
   ]
  }
 ],
 "metadata": {
  "kernelspec": {
   "display_name": "llm",
   "language": "python",
   "name": "llm"
  },
  "language_info": {
   "codemirror_mode": {
    "name": "ipython",
    "version": 3
   },
   "file_extension": ".py",
   "mimetype": "text/x-python",
   "name": "python",
   "nbconvert_exporter": "python",
   "pygments_lexer": "ipython3",
   "version": "3.10.14"
  }
 },
 "nbformat": 4,
 "nbformat_minor": 5
}
